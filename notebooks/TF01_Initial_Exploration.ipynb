{
 "cells": [
  {
   "cell_type": "markdown",
   "id": "requested-default",
   "metadata": {},
   "source": [
    "# Data Manipulation"
   ]
  },
  {
   "cell_type": "code",
   "execution_count": null,
   "id": "generic-malpractice",
   "metadata": {},
   "outputs": [],
   "source": [
    "import os\n",
    "import sys\n",
    "module_path = os.path.abspath(os.path.join('..'))\n",
    "if module_path not in sys.path:\n",
    "    sys.path.append(module_path)"
   ]
  },
  {
   "cell_type": "code",
   "execution_count": 9,
   "id": "interested-necessity",
   "metadata": {},
   "outputs": [],
   "source": [
    "import pandas as pd\n",
    "import numpy as np\n",
    "import os\n",
    "import pathlib"
   ]
  },
  {
   "cell_type": "markdown",
   "id": "commercial-blanket",
   "metadata": {},
   "source": [
    "List contents of getAbstract data directory"
   ]
  },
  {
   "cell_type": "code",
   "execution_count": null,
   "id": "solar-mediterranean",
   "metadata": {},
   "outputs": [],
   "source": [
    "parentDir = pathlib.Path.cwd().parent"
   ]
  },
  {
   "cell_type": "code",
   "execution_count": null,
   "id": "controversial-coordinate",
   "metadata": {},
   "outputs": [],
   "source": [
    "list(parentDir.joinpath('data', 'getAbstract').iterdir())"
   ]
  },
  {
   "cell_type": "markdown",
   "id": "foster-progress",
   "metadata": {},
   "source": [
    "Define data you want to select"
   ]
  },
  {
   "cell_type": "code",
   "execution_count": null,
   "id": "boxed-float",
   "metadata": {},
   "outputs": [],
   "source": [
    "print(\"Which data do you want to load?\")\n",
    "selection = input(\"--> \")"
   ]
  },
  {
   "cell_type": "markdown",
   "id": "empirical-trademark",
   "metadata": {},
   "source": [
    "Enter getAbstract data directory and get filepaths"
   ]
  },
  {
   "cell_type": "code",
   "execution_count": null,
   "id": "interpreted-champagne",
   "metadata": {},
   "outputs": [],
   "source": [
    "for p in parentDir.joinpath('data', 'getAbstract').iterdir():\n",
    "    if selection in p.name:\n",
    "        data = pd.read_csv(p, index_col=0)\n",
    "    else:\n",
    "        print(\"skipped \", p)"
   ]
  }
 ],
 "metadata": {
  "kernelspec": {
   "display_name": "Python 3",
   "language": "python",
   "name": "python3"
  },
  "language_info": {
   "codemirror_mode": {
    "name": "ipython",
    "version": 3
   },
   "file_extension": ".py",
   "mimetype": "text/x-python",
   "name": "python",
   "nbconvert_exporter": "python",
   "pygments_lexer": "ipython3",
   "version": "3.8.1"
  }
 },
 "nbformat": 4,
 "nbformat_minor": 5
}
