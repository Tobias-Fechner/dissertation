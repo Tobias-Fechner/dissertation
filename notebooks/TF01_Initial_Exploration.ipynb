{
 "cells": [
  {
   "cell_type": "markdown",
   "id": "requested-default",
   "metadata": {},
   "source": [
    "# Data Manipulation"
   ]
  },
  {
   "cell_type": "markdown",
   "id": "concrete-charger",
   "metadata": {},
   "source": [
    "### Import"
   ]
  },
  {
   "cell_type": "code",
   "execution_count": null,
   "id": "polar-acting",
   "metadata": {},
   "outputs": [],
   "source": [
    "import os\n",
    "import sys\n",
    "module_path = os.path.abspath(os.path.join('..'))\n",
    "if module_path not in sys.path:\n",
    "    sys.path.append(module_path)"
   ]
  },
  {
   "cell_type": "code",
   "execution_count": null,
   "id": "interested-necessity",
   "metadata": {},
   "outputs": [],
   "source": [
    "import pandas as pd\n",
    "import numpy as np\n",
    "import apiIntegrations.ga\n",
    "import topicmodelling.utilities.clean\n",
    "import topicmodelling.classes"
   ]
  },
  {
   "cell_type": "code",
   "execution_count": null,
   "id": "hungarian-vacuum",
   "metadata": {},
   "outputs": [],
   "source": [
    "import gensim"
   ]
  },
  {
   "cell_type": "code",
   "execution_count": null,
   "id": "assumed-edward",
   "metadata": {},
   "outputs": [],
   "source": [
    "from pprint import pprint"
   ]
  },
  {
   "cell_type": "markdown",
   "id": "passive-chuck",
   "metadata": {},
   "source": [
    "### Load Data"
   ]
  },
  {
   "cell_type": "code",
   "execution_count": null,
   "id": "endangered-trademark",
   "metadata": {},
   "outputs": [],
   "source": [
    "c = topicmodelling.classes.Corpus('test')"
   ]
  },
  {
   "cell_type": "code",
   "execution_count": null,
   "id": "agreed-cabinet",
   "metadata": {},
   "outputs": [],
   "source": [
    "c.addData()"
   ]
  },
  {
   "cell_type": "code",
   "execution_count": null,
   "id": "aware-tragedy",
   "metadata": {},
   "outputs": [],
   "source": [
    "c.raw.head(2)"
   ]
  },
  {
   "cell_type": "markdown",
   "id": "fifteen-conference",
   "metadata": {},
   "source": [
    "### Pre-Process"
   ]
  },
  {
   "cell_type": "code",
   "execution_count": null,
   "id": "grave-exercise",
   "metadata": {},
   "outputs": [],
   "source": [
    "content = apiIntegrations.ga.addIntroToContent(c.raw)"
   ]
  },
  {
   "cell_type": "code",
   "execution_count": null,
   "id": "drawn-pathology",
   "metadata": {},
   "outputs": [],
   "source": [
    "texts = content.apply(lambda x: topicmodelling.utilities.clean.dropHTML(x))"
   ]
  },
  {
   "cell_type": "markdown",
   "id": "exempt-accommodation",
   "metadata": {},
   "source": [
    "### Prepare Data for Topic Model"
   ]
  },
  {
   "cell_type": "code",
   "execution_count": null,
   "id": "olive-public",
   "metadata": {
    "scrolled": true
   },
   "outputs": [],
   "source": [
    "c.prepareData(texts)"
   ]
  },
  {
   "cell_type": "code",
   "execution_count": null,
   "id": "capable-workstation",
   "metadata": {},
   "outputs": [],
   "source": [
    "c.data.head()"
   ]
  },
  {
   "cell_type": "code",
   "execution_count": null,
   "id": "amended-plate",
   "metadata": {},
   "outputs": [],
   "source": [
    "c.dictionary"
   ]
  },
  {
   "cell_type": "code",
   "execution_count": null,
   "id": "consistent-mentor",
   "metadata": {},
   "outputs": [],
   "source": [
    "assert"
   ]
  },
  {
   "cell_type": "markdown",
   "id": "central-complexity",
   "metadata": {},
   "source": [
    "# Train LDA Model"
   ]
  },
  {
   "cell_type": "code",
   "execution_count": null,
   "id": "native-riding",
   "metadata": {},
   "outputs": [],
   "source": [
    "lda_from_article = gensim.models.ldamodel.LdaModel(corpus=c.data['dtm'],\n",
    "                                           id2word=c.dictionary,\n",
    "                                           num_topics=12, \n",
    "                                           random_state=100,\n",
    "                                           update_every=1,\n",
    "                                           chunksize=20,\n",
    "                                           passes=50,\n",
    "                                           alpha='symmetric',\n",
    "                                           iterations=100,\n",
    "                                           per_word_topics=True)"
   ]
  },
  {
   "cell_type": "code",
   "execution_count": null,
   "id": "chronic-numbers",
   "metadata": {
    "scrolled": false
   },
   "outputs": [],
   "source": [
    "pprint(lda_from_article.print_topics())"
   ]
  },
  {
   "cell_type": "code",
   "execution_count": null,
   "id": "friendly-techno",
   "metadata": {},
   "outputs": [],
   "source": []
  }
 ],
 "metadata": {
  "kernelspec": {
   "display_name": "Python 3",
   "language": "python",
   "name": "python3"
  },
  "language_info": {
   "codemirror_mode": {
    "name": "ipython",
    "version": 3
   },
   "file_extension": ".py",
   "mimetype": "text/x-python",
   "name": "python",
   "nbconvert_exporter": "python",
   "pygments_lexer": "ipython3",
   "version": "3.8.1"
  }
 },
 "nbformat": 4,
 "nbformat_minor": 5
}
