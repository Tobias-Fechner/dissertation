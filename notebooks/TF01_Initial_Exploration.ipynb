{
 "cells": [
  {
   "cell_type": "markdown",
   "id": "requested-default",
   "metadata": {},
   "source": [
    "# Data Manipulation"
   ]
  },
  {
   "cell_type": "code",
   "execution_count": null,
   "id": "polar-acting",
   "metadata": {},
   "outputs": [],
   "source": [
    "import os\n",
    "import sys\n",
    "module_path = os.path.abspath(os.path.join('..'))\n",
    "if module_path not in sys.path:\n",
    "    sys.path.append(module_path)"
   ]
  },
  {
   "cell_type": "code",
   "execution_count": null,
   "id": "interested-necessity",
   "metadata": {},
   "outputs": [],
   "source": [
    "import pandas as pd\n",
    "import numpy as np\n",
    "import os\n",
    "import pathlib"
   ]
  },
  {
   "cell_type": "code",
   "execution_count": null,
   "id": "intellectual-picture",
   "metadata": {},
   "outputs": [],
   "source": [
    "dataDir = pathlib.Path(pathlib.Path.cwd().parent, 'data', 'apiIntegrations.ga')"
   ]
  },
  {
   "cell_type": "code",
   "execution_count": null,
   "id": "marine-tactics",
   "metadata": {},
   "outputs": [],
   "source": [
    "for p in dataDir.iterdir():\n",
    "    if 'energy' in p.stem:\n",
    "        data = pd.read_csv(p, index_col=0)\n",
    "    else:\n",
    "        print(\"Skipped: \", p)"
   ]
  },
  {
   "cell_type": "code",
   "execution_count": null,
   "id": "weird-shanghai",
   "metadata": {},
   "outputs": [],
   "source": [
    "data.head(2)"
   ]
  },
  {
   "cell_type": "code",
   "execution_count": null,
   "id": "greek-queens",
   "metadata": {},
   "outputs": [],
   "source": [
    "filtered = data.loc[:, ['title', 'subtitle', 'author',  'publisher', 'introHtml', 'contentHtml', 'url']]\n",
    "filtered"
   ]
  },
  {
   "cell_type": "code",
   "execution_count": null,
   "id": "concerned-directive",
   "metadata": {},
   "outputs": [],
   "source": [
    "import apiIntegrations.ga\n",
    "import apiIntegrations.utilities"
   ]
  },
  {
   "cell_type": "code",
   "execution_count": null,
   "id": "lesser-broadcasting",
   "metadata": {
    "scrolled": true
   },
   "outputs": [],
   "source": [
    "filtered['plainText'] = apiIntegrations.utilities.getPlainTextFromHTML(filtered['contentHtml'])\n",
    "filtered"
   ]
  },
  {
   "cell_type": "code",
   "execution_count": null,
   "id": "optical-apparatus",
   "metadata": {},
   "outputs": [],
   "source": []
  }
 ],
 "metadata": {
  "kernelspec": {
   "display_name": "Python 3",
   "language": "python",
   "name": "python3"
  },
  "language_info": {
   "codemirror_mode": {
    "name": "ipython",
    "version": 3
   },
   "file_extension": ".py",
   "mimetype": "text/x-python",
   "name": "python",
   "nbconvert_exporter": "python",
   "pygments_lexer": "ipython3",
   "version": "3.8.1"
  }
 },
 "nbformat": 4,
 "nbformat_minor": 5
}
