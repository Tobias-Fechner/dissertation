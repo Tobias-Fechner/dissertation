{
 "cells": [
  {
   "cell_type": "markdown",
   "id": "requested-default",
   "metadata": {},
   "source": [
    "# Visualising Topic Similarities"
   ]
  },
  {
   "cell_type": "markdown",
   "id": "concrete-charger",
   "metadata": {},
   "source": [
    "### Imports"
   ]
  },
  {
   "cell_type": "code",
   "execution_count": null,
   "id": "polar-acting",
   "metadata": {},
   "outputs": [],
   "source": [
    "import os\n",
    "import sys\n",
    "module_path = os.path.abspath(os.path.join('..'))\n",
    "if module_path not in sys.path:\n",
    "    sys.path.append(module_path)"
   ]
  },
  {
   "cell_type": "code",
   "execution_count": null,
   "id": "interested-necessity",
   "metadata": {},
   "outputs": [],
   "source": [
    "import pandas as pd\n",
    "import numpy as np\n",
    "import topicmodelling.utilities.plotting as plotting\n",
    "import topicmodelling.classes\n",
    "import networking.classes\n",
    "import gensim"
   ]
  },
  {
   "cell_type": "code",
   "execution_count": null,
   "id": "919ada39",
   "metadata": {},
   "outputs": [],
   "source": [
    "import apiIntegrations.ga"
   ]
  },
  {
   "cell_type": "markdown",
   "id": "going-mining",
   "metadata": {},
   "source": [
    "## Load Data"
   ]
  },
  {
   "cell_type": "code",
   "execution_count": null,
   "id": "cdafa5db",
   "metadata": {},
   "outputs": [],
   "source": [
    "df = pd.read_pickle(r'C:\\Users\\Tobias Fechner\\Documents\\1_Uni\\fyp\\git_repo_fyp\\data\\processed\\all_summaries_cutYr_cutLen.csv')"
   ]
  },
  {
   "cell_type": "markdown",
   "id": "1ddbf694",
   "metadata": {},
   "source": [
    "## Train Model"
   ]
  },
  {
   "cell_type": "code",
   "execution_count": null,
   "id": "4f982cd8",
   "metadata": {},
   "outputs": [],
   "source": [
    "iterations = 2000\n",
    "year = 2015"
   ]
  },
  {
   "cell_type": "code",
   "execution_count": null,
   "id": "13fe9b3b",
   "metadata": {},
   "outputs": [],
   "source": [
    "c = topicmodelling.classes.Corpus('test')\n",
    "c.data = df.loc[df.yearPublished == year]\n",
    "c.dictionary = gensim.corpora.dictionary.Dictionary(c.data.tokensProcessed)"
   ]
  },
  {
   "cell_type": "code",
   "execution_count": null,
   "id": "82d5b584",
   "metadata": {},
   "outputs": [],
   "source": [
    "initial_k = int(len(c.data)/3)\n",
    "print(initial_k)"
   ]
  },
  {
   "cell_type": "code",
   "execution_count": null,
   "id": "4b3b3573",
   "metadata": {},
   "outputs": [],
   "source": [
    "hdp = topicmodelling.classes.TomotopyHDP('HDP')\n",
    "hdp.instantiateModel(c, gamma=1, alpha=0.1, initial_k=initial_k)\n",
    "trainingResults = hdp.train(c, iterations=iterations, chunkSize=100, evaluate=False, printDuring=False)"
   ]
  },
  {
   "cell_type": "code",
   "execution_count": null,
   "id": "7e887cd4",
   "metadata": {},
   "outputs": [],
   "source": [
    "fig = plotting.plotLine(np.arange(100, iterations+100, 100), trainingResults['Number of Topics'], xTitle=\"Iteration\", yTitle=\"Number of Topics\")\n",
    "fig.update_layout(title_text=f\"Model: HDP - Iterations: {iterations} - Year: {year}\")"
   ]
  },
  {
   "cell_type": "markdown",
   "id": "a5953034",
   "metadata": {},
   "source": [
    "## Prepare Data for Network"
   ]
  },
  {
   "cell_type": "code",
   "execution_count": null,
   "id": "b4ef1d1f",
   "metadata": {},
   "outputs": [],
   "source": [
    "c.getTopicsTable(hdp)\n",
    "c.getTopicNetworkingData(maxDistance=0.46)"
   ]
  },
  {
   "cell_type": "code",
   "execution_count": null,
   "id": "3c32b510",
   "metadata": {},
   "outputs": [],
   "source": [
    "topicmodelling.utilities.plotting.plotBar(c.topics.index, c.topics.degree, xTitle=\"Topic ID\", yTitle=\"No. Connecting Topics\")"
   ]
  },
  {
   "cell_type": "code",
   "execution_count": null,
   "id": "12b777fc",
   "metadata": {},
   "outputs": [],
   "source": [
    "nodes, edges = networking.utilities.getNodesEdges(c, onlyConnectedTopics=True)"
   ]
  },
  {
   "cell_type": "markdown",
   "id": "tired-machinery",
   "metadata": {},
   "source": [
    "### Create Graph Object with Graph Class"
   ]
  },
  {
   "cell_type": "code",
   "execution_count": null,
   "id": "ceca7db3",
   "metadata": {
    "scrolled": false
   },
   "outputs": [],
   "source": [
    "netty = networking.classes.Graph(nodes, edges)\n",
    "netty.printGraph(layout='spring', nodeSizeCorrection=0.3, weightCorrectionFactor=1, weightCorrectionExponent=1)"
   ]
  },
  {
   "cell_type": "code",
   "execution_count": null,
   "id": "39c03c5e",
   "metadata": {},
   "outputs": [],
   "source": []
  }
 ],
 "metadata": {
  "kernelspec": {
   "display_name": "Python 3",
   "language": "python",
   "name": "python3"
  },
  "language_info": {
   "codemirror_mode": {
    "name": "ipython",
    "version": 3
   },
   "file_extension": ".py",
   "mimetype": "text/x-python",
   "name": "python",
   "nbconvert_exporter": "python",
   "pygments_lexer": "ipython3",
   "version": "3.8.1"
  }
 },
 "nbformat": 4,
 "nbformat_minor": 5
}
